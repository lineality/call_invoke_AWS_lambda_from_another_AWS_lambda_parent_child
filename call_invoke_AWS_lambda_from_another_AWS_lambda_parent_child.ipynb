{
  "nbformat": 4,
  "nbformat_minor": 0,
  "metadata": {
    "colab": {
      "name": "github call_invoke_AWS_lambda_from_another_AWS_lambda_parent_child.ipynb",
      "provenance": [],
      "collapsed_sections": []
    },
    "kernelspec": {
      "name": "python3",
      "display_name": "Python 3"
    },
    "language_info": {
      "name": "python"
    }
  },
  "cells": [
    {
      "cell_type": "markdown",
      "metadata": {
        "id": "DhqSpKRjEuiF"
      },
      "source": [
        "# call invoke AWS lambda from another AWS lambda\n",
        "\n"
      ]
    },
    {
      "cell_type": "markdown",
      "metadata": {
        "id": "xnZFlYOWE6Ss"
      },
      "source": [
        "# Setup Instructions:\n",
        "\n",
        "```\n",
        "Setting up for Parent_Function to call Child_Function\n",
        "\n",
        "To allow a Parent_Function to call a Child_Function,\n",
        " provide the Parent_Function with specific access/policy to \n",
        " call another Child_Function lambda function. \n",
        " To do this, add\n",
        " specific policies to a \"role\" and then assign that role to the \n",
        " Parent_Function lambda function.\n",
        "\n",
        "Go to AWS IAM module in the AWS portal and select \n",
        "Policies. \n",
        "\n",
        "Click on \"Create Policy\" to create a new Policy. \n",
        "\n",
        "or\n",
        "\n",
        "Select the role for an existing AWS-Lambda-function ->\n",
        "-> go to the \"Permissions\" tab ->\n",
        "-> on the right there is a box called \"Add permissions\" ->\n",
        "-> click on the down-arrow in that box for two options ->\n",
        "-> select \"Create inline policy\" ->\n",
        "-> select 'json' ->\n",
        "-> cut and paste in text (maybe get ARN from function's page) ->\n",
        "-> click review ->\n",
        "-> click save\n",
        "```\n",
        "\n",
        "### See policy text below, to copy and past, but add the AWS account number and then name of your lambda function, all else can stay the same from the template, e.g. do NOT change the version date, just leave it.\n",
        "\n"
      ]
    },
    {
      "cell_type": "markdown",
      "metadata": {
        "id": "1QrXNQbeEf8i"
      },
      "source": [
        "## This is your \"NAME_OF_YOUR_NEW_CUSTOM_POLICY\": \n",
        "\n",
        "```\n",
        "{\n",
        "    \"Version\": \"2012-10-17\",\n",
        "    \"Statement\": [\n",
        "        {\n",
        "            \"Sid\": \"VisualEditor0\",\n",
        "            \"Effect\": \"Allow\",\n",
        "            \"Action\": [\n",
        "                \"lambda:InvokeFunction\",\n",
        "                \"lambda:InvokeAsync\"\n",
        "            ],\n",
        "            \"Resource\": \"arn:aws:lambda:us-east-1:###############:function:NAME_OF_YOUR_CHILD_AWS_LAMBDA_FUNCTION\"\n",
        "        }\n",
        "    ]\n",
        "}\n",
        "```"
      ]
    },
    {
      "cell_type": "markdown",
      "metadata": {
        "id": "EWuReIxHKiWS"
      },
      "source": [
        "# Add 2 \"policies\" to role of the Parent_Function:\n",
        "```\n",
        "AWSLambdaBasicExecutionRole\n",
        "NAME_OF_YOUR_NEW_CUSTOM_POLICY\n",
        "```"
      ]
    },
    {
      "cell_type": "markdown",
      "metadata": {
        "id": "QDcA_jDFE3Yr"
      },
      "source": [
        "# Minimal AWS-Lambda  Parent_Function Test Code"
      ]
    },
    {
      "cell_type": "code",
      "metadata": {
        "id": "mya02mmGIo73"
      },
      "source": [
        "import boto3\n",
        "import json\n",
        "\n",
        "def lambda_handler(event, context):\n",
        "\n",
        "    # get input: company id\n",
        "    input_for_child_function = \"YOUR_INPUT\"\n",
        "\n",
        "    # connect to AWS-lambda \"boto3.client\"\n",
        "    child_lambda_client = boto3.client(\"lambda\")\n",
        "\n",
        "\n",
        "    ###########################\n",
        "    # call/invoke child-lambda \n",
        "    ###########################\n",
        "\n",
        "    try:\n",
        "        inputParams = {\n",
        "            \"YOUR_INPUT\" : input_for_child_function\n",
        "        }\n",
        "\n",
        "        response = child_lambda_client.invoke(\n",
        "            FunctionName = 'arn:aws:lambda:us-east-1:YOUR_12_DIGIT_AWS_NUMBER_HERE:function:YOUR_CHILD_LAMBDA_NAME_HERE',\n",
        "            InvocationType = 'RequestResponse',\n",
        "            Payload = json.dumps(inputParams)\n",
        "        )\n",
        "\n",
        "        responseFromChild_1 = json.load(response['Payload'])\n",
        "\n",
        "        # For Terminal / Inspection\n",
        "        print(responseFromChild_1)\n",
        "\n",
        "\n",
        "    except Exception as e:\n",
        "        # Failed\n",
        "        print(str(e))\n",
        "        status_code = 500\n",
        "        output = f'Error: Failed to call/invoke child lambda function: {str(e)}'\n",
        "\n",
        "\n",
        "    # get the output\n",
        "    ## must convert string to json\n",
        "    dig_into_dictionary = json.loads(responseFromChild_1['body'])\n",
        "\n",
        "    output = int(dig_into_dictionary['YOUR_TARGET_KEY'])\n",
        "\n",
        "\n",
        "    # TODO implement\n",
        "    return {\n",
        "        'statusCode': 200,\n",
        "        'body': json.dumps(output)\n",
        "    }\n"
      ],
      "execution_count": null,
      "outputs": []
    },
    {
      "cell_type": "markdown",
      "source": [
        "shout out: This guide is based on resource here: \n",
        " https://www.sqlshack.com/calling-an-aws-lambda-function-from-another-lambda-function/"
      ],
      "metadata": {
        "id": "vZ3ifMSVjQME"
      }
    }
  ]
}